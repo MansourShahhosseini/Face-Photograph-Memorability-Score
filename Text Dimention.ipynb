{
 "cells": [
  {
   "cell_type": "code",
   "execution_count": 10,
   "id": "adecdb86",
   "metadata": {
    "jupyter": {
     "is_executing": true
    }
   },
   "outputs": [],
   "source": [
    "import ollama\n",
    "import pandas as pd\n",
    "from tqdm.contrib import tzip"
   ]
  },
  {
   "cell_type": "code",
   "execution_count": 11,
   "id": "7e9c41d0",
   "metadata": {},
   "outputs": [],
   "source": [
    "face = pd.read_excel(r'C:\\Users\\manso\\Dropbox\\Temple\\Semester3\\ML\\Project\\Data\\Full Attribute Scores\\psychology attributes\\psychology-attributes.xlsx')\n",
    "face = face[~((face.catch!=face.catchAns) | (face['catch.1']!=face['catchAns.1']))]\n",
    "face = face[['Filename', 'memorable']]\n",
    "face.columns = ['image_id','memorable']\n",
    "face = face.groupby('image_id').mean().reset_index().round(2)"
   ]
  },
  {
   "cell_type": "code",
   "execution_count": 12,
   "id": "0d2fb61d",
   "metadata": {},
   "outputs": [],
   "source": [
    "path = r'C:\\Users\\manso\\Dropbox\\Temple\\Semester3\\ML\\Project\\Data\\10k US Adult Faces Database\\Face Images'"
   ]
  },
  {
   "cell_type": "code",
   "execution_count": 13,
   "id": "e5aae61d-28fb-4a5d-bf3a-9beb7132a066",
   "metadata": {},
   "outputs": [],
   "source": [
    "!ollama pull llama3.2-vision"
   ]
  },
  {
   "cell_type": "code",
   "execution_count": 14,
   "id": "5fd328dc-9c9c-424b-a2a3-610fe915f9c9",
   "metadata": {},
   "outputs": [],
   "source": [
    "prompt = '''Describe the face you are seeing in one paragraph and ignore the oval shape. Please provide as much detail as you can.'''"
   ]
  },
  {
   "cell_type": "code",
   "execution_count": 15,
   "id": "4d65676a",
   "metadata": {},
   "outputs": [],
   "source": [
    "text_description = []"
   ]
  },
  {
   "cell_type": "code",
   "execution_count": null,
   "id": "9a2dffd1-1c78-429b-b3ad-7a2ce3d84351",
   "metadata": {},
   "outputs": [],
   "source": [
    "for idx in face.index:\n",
    "    response = ollama.chat(\n",
    "        model='llama3.2-vision',\n",
    "        messages=[{\n",
    "            'role': 'user',\n",
    "            'content': prompt,\n",
    "            'images': [path + '\\\\' + face.image_id[idx]],\n",
    "                 }],\n",
    "        options = {'num_topic':512, 'temperature':0} \n",
    "                          )\n",
    "    text_description.append(response['message']['content'].replace('\\n',''))\n",
    "    print(idx)"
   ]
  }
 ],
 "metadata": {
  "kernelspec": {
   "display_name": "Python 3",
   "language": "python",
   "name": "python3"
  },
  "language_info": {
   "codemirror_mode": {
    "name": "ipython",
    "version": 3
   },
   "file_extension": ".py",
   "mimetype": "text/x-python",
   "name": "python",
   "nbconvert_exporter": "python",
   "pygments_lexer": "ipython3",
   "version": "3.11.5"
  }
 },
 "nbformat": 4,
 "nbformat_minor": 5
}
